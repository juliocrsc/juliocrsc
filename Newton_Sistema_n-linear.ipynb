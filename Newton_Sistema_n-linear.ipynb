{
  "nbformat": 4,
  "nbformat_minor": 0,
  "metadata": {
    "colab": {
      "name": "Untitled0.ipynb",
      "provenance": [],
      "collapsed_sections": [],
      "authorship_tag": "ABX9TyPfXjqBgXbaxHzuQHugXh4x",
      "include_colab_link": true
    },
    "kernelspec": {
      "name": "python3",
      "display_name": "Python 3"
    },
    "language_info": {
      "name": "python"
    }
  },
  "cells": [
    {
      "cell_type": "markdown",
      "metadata": {
        "id": "view-in-github",
        "colab_type": "text"
      },
      "source": [
        "<a href=\"https://colab.research.google.com/github/juliocrsc/juliocrsc/blob/main/Newton_Sistema_n-linear.ipynb\" target=\"_parent\"><img src=\"https://colab.research.google.com/assets/colab-badge.svg\" alt=\"Open In Colab\"/></a>"
      ]
    },
    {
      "cell_type": "code",
      "metadata": {
        "colab": {
          "base_uri": "https://localhost:8080/",
          "height": 405
        },
        "id": "2pcU1drlnq_6",
        "outputId": "69be286f-3426-4412-e3c7-87ef40e55a86"
      },
      "source": [
        "%matplotlib inline\n",
        "import numpy as np\n",
        "import matplotlib.pyplot as plt\n",
        "import sympy as sy\n",
        "from scipy.optimize import root\n",
        "\n",
        "x = np.linspace(-2,2,50,endpoint=True)\n",
        "y = x[:]\n",
        "X,Y = np.meshgrid(x,y)\n",
        "\n",
        "G1 = X*2 + Y*2 - 2\n",
        "G2 = X*2 - Y*2/9 - 1\n",
        "\n",
        "C = plt.contour(X,Y,G1,levels=[0],colors='k')\n",
        "C = plt.contour(X,Y,G2,levels=[0],colors='g')\n",
        "plt.grid(True)\n",
        "\n",
        "def G(x):\n",
        "    return [ x[0]*2 + x[1]*2 - 2,\n",
        "             x[0]*2 - x[1]*2/9 - 1 ]\n",
        "\n",
        "\n",
        "x,y = sy.symbols('x,y')\n",
        "\n",
        "f1 = x*2 + y*2 - 2\n",
        "f2 = x*2 - y*2/9 - 1\n",
        "\n",
        "\n",
        "f1x,f1y = sy.diff(f1,x),sy.diff(f1,y)\n",
        "f2x,f2y = sy.diff(f2,x),sy.diff(f2,y)\n",
        "\n",
        "print(f1x)\n",
        "print(f1y)\n",
        "print(f2x)\n",
        "print(f2y)\n",
        "\n",
        "def jacobian(x):\n",
        "    return np.array([[2*x[0], 2*x[1]], [2*x[0],-2*x[1]/9]])\n",
        "\n",
        "\n",
        "inicial = [[2,2],[-2,2],[-2,-2],[2,-2]]\n",
        "\n",
        "S = []\n",
        "i = 1\n",
        "for vetor in inicial: \n",
        "    aux = root(G,vetor,jac=jacobian, method='lm')\n",
        "    S.append(aux.x) \n",
        "    s = 'Solução x({0})* encontrada: {1}'\n",
        "    print(s.format(i,aux.x))\n",
        "    i +=1\n",
        "\n",
        "C = plt.contour(X,Y,G1,levels=[0],colors='k')\n",
        "C = plt.contour(X,Y,G2,levels=[0],colors='g')\n",
        "plt.grid(True)\n",
        "\n",
        "for i in range(len(S)):\n",
        "        plt.plot(S[i][0],S[i][1],'or')"
      ],
      "execution_count": null,
      "outputs": [
        {
          "output_type": "stream",
          "name": "stdout",
          "text": [
            "2\n",
            "2\n",
            "2\n",
            "-2/9\n",
            "Solução x(1)* encontrada: [0.55 0.45]\n",
            "Solução x(2)* encontrada: [-2.  2.]\n",
            "Solução x(3)* encontrada: [-2. -2.]\n",
            "Solução x(4)* encontrada: [ 2. -2.]\n"
          ]
        },
        {
          "output_type": "display_data",
          "data": {
            "image/png": "[encoded data removed]",
            "text/plain": [
              "<Figure size 432x288 with 1 Axes>"
            ]
          },
          "metadata": {
            "needs_background": "light"
          }
        }
      ]
    }
  ]
}